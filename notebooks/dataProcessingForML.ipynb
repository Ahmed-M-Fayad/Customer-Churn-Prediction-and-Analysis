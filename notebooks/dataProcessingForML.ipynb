{
 "cells": [
  {
   "cell_type": "markdown",
   "metadata": {},
   "source": [
    "### 1. Import necessary libraries\n",
    "---"
   ]
  },
  {
   "cell_type": "code",
   "execution_count": 1,
   "metadata": {},
   "outputs": [],
   "source": [
    "import pandas as pd\n",
    "from sklearn.ensemble import RandomForestClassifier\n",
    "from sklearn.preprocessing import StandardScaler\n",
    "from sklearn.model_selection import train_test_split\n",
    "\n",
    "import warnings\n",
    "warnings.filterwarnings(\"ignore\")"
   ]
  },
  {
   "cell_type": "markdown",
   "metadata": {},
   "source": [
    "### 2. Load data\n",
    "---"
   ]
  },
  {
   "cell_type": "code",
   "execution_count": null,
   "metadata": {},
   "outputs": [
    {
     "data": {
      "text/html": [
       "<div>\n",
       "<style scoped>\n",
       "    .dataframe tbody tr th:only-of-type {\n",
       "        vertical-align: middle;\n",
       "    }\n",
       "\n",
       "    .dataframe tbody tr th {\n",
       "        vertical-align: top;\n",
       "    }\n",
       "\n",
       "    .dataframe thead th {\n",
       "        text-align: right;\n",
       "    }\n",
       "</style>\n",
       "<table border=\"1\" class=\"dataframe\">\n",
       "  <thead>\n",
       "    <tr style=\"text-align: right;\">\n",
       "      <th></th>\n",
       "      <th>age</th>\n",
       "      <th>gender</th>\n",
       "      <th>region_category</th>\n",
       "      <th>membership_category</th>\n",
       "      <th>joining_date</th>\n",
       "      <th>joined_through_referral</th>\n",
       "      <th>preferred_offer_types</th>\n",
       "      <th>medium_of_operation</th>\n",
       "      <th>internet_option</th>\n",
       "      <th>last_visit_time</th>\n",
       "      <th>...</th>\n",
       "      <th>avg_time_spent</th>\n",
       "      <th>avg_transaction_value</th>\n",
       "      <th>points_in_wallet</th>\n",
       "      <th>used_special_discount</th>\n",
       "      <th>offer_application_preference</th>\n",
       "      <th>past_complaint</th>\n",
       "      <th>complaint_status</th>\n",
       "      <th>feedback</th>\n",
       "      <th>churn_risk_score</th>\n",
       "      <th>log_avg_time_spent</th>\n",
       "    </tr>\n",
       "  </thead>\n",
       "  <tbody>\n",
       "    <tr>\n",
       "      <th>0</th>\n",
       "      <td>18</td>\n",
       "      <td>F</td>\n",
       "      <td>Village</td>\n",
       "      <td>Platinum Membership</td>\n",
       "      <td>2017-08-17</td>\n",
       "      <td>No</td>\n",
       "      <td>Gift Vouchers/Coupons</td>\n",
       "      <td>Smartphone</td>\n",
       "      <td>Wi-Fi</td>\n",
       "      <td>1900-01-01 16:08:02</td>\n",
       "      <td>...</td>\n",
       "      <td>5.709201</td>\n",
       "      <td>53005.25</td>\n",
       "      <td>781.750000</td>\n",
       "      <td>Yes</td>\n",
       "      <td>Yes</td>\n",
       "      <td>No</td>\n",
       "      <td>Not Applicable</td>\n",
       "      <td>Products always in Stock</td>\n",
       "      <td>2.0</td>\n",
       "      <td>5.709201</td>\n",
       "    </tr>\n",
       "    <tr>\n",
       "      <th>1</th>\n",
       "      <td>32</td>\n",
       "      <td>F</td>\n",
       "      <td>City</td>\n",
       "      <td>Premium Membership</td>\n",
       "      <td>2017-08-28</td>\n",
       "      <td>No</td>\n",
       "      <td>Gift Vouchers/Coupons</td>\n",
       "      <td>Desktop</td>\n",
       "      <td>Mobile_Data</td>\n",
       "      <td>1900-01-01 12:38:13</td>\n",
       "      <td>...</td>\n",
       "      <td>5.727955</td>\n",
       "      <td>12838.38</td>\n",
       "      <td>788.482817</td>\n",
       "      <td>Yes</td>\n",
       "      <td>No</td>\n",
       "      <td>Yes</td>\n",
       "      <td>Solved</td>\n",
       "      <td>Quality Customer Care</td>\n",
       "      <td>1.0</td>\n",
       "      <td>5.727955</td>\n",
       "    </tr>\n",
       "    <tr>\n",
       "      <th>2</th>\n",
       "      <td>44</td>\n",
       "      <td>F</td>\n",
       "      <td>Town</td>\n",
       "      <td>No Membership</td>\n",
       "      <td>2016-11-11</td>\n",
       "      <td>Yes</td>\n",
       "      <td>Gift Vouchers/Coupons</td>\n",
       "      <td>Desktop</td>\n",
       "      <td>Wi-Fi</td>\n",
       "      <td>1900-01-01 22:53:21</td>\n",
       "      <td>...</td>\n",
       "      <td>6.248352</td>\n",
       "      <td>21027.00</td>\n",
       "      <td>500.690000</td>\n",
       "      <td>No</td>\n",
       "      <td>Yes</td>\n",
       "      <td>Yes</td>\n",
       "      <td>Solved in Follow-up</td>\n",
       "      <td>Poor Website</td>\n",
       "      <td>5.0</td>\n",
       "      <td>6.248352</td>\n",
       "    </tr>\n",
       "    <tr>\n",
       "      <th>3</th>\n",
       "      <td>37</td>\n",
       "      <td>M</td>\n",
       "      <td>City</td>\n",
       "      <td>No Membership</td>\n",
       "      <td>2016-10-29</td>\n",
       "      <td>Yes</td>\n",
       "      <td>Gift Vouchers/Coupons</td>\n",
       "      <td>Desktop</td>\n",
       "      <td>Mobile_Data</td>\n",
       "      <td>1900-01-01 15:57:50</td>\n",
       "      <td>...</td>\n",
       "      <td>3.993972</td>\n",
       "      <td>25239.56</td>\n",
       "      <td>567.660000</td>\n",
       "      <td>No</td>\n",
       "      <td>Yes</td>\n",
       "      <td>Yes</td>\n",
       "      <td>Unsolved</td>\n",
       "      <td>Poor Website</td>\n",
       "      <td>5.0</td>\n",
       "      <td>3.993972</td>\n",
       "    </tr>\n",
       "    <tr>\n",
       "      <th>4</th>\n",
       "      <td>31</td>\n",
       "      <td>F</td>\n",
       "      <td>City</td>\n",
       "      <td>No Membership</td>\n",
       "      <td>2017-09-12</td>\n",
       "      <td>No</td>\n",
       "      <td>Credit/Debit Card Offers</td>\n",
       "      <td>Smartphone</td>\n",
       "      <td>Mobile_Data</td>\n",
       "      <td>1900-01-01 15:46:44</td>\n",
       "      <td>...</td>\n",
       "      <td>4.737338</td>\n",
       "      <td>24483.66</td>\n",
       "      <td>663.060000</td>\n",
       "      <td>No</td>\n",
       "      <td>Yes</td>\n",
       "      <td>Yes</td>\n",
       "      <td>Solved</td>\n",
       "      <td>Poor Website</td>\n",
       "      <td>5.0</td>\n",
       "      <td>4.737338</td>\n",
       "    </tr>\n",
       "  </tbody>\n",
       "</table>\n",
       "<p>5 rows × 21 columns</p>\n",
       "</div>"
      ],
      "text/plain": [
       "   age gender region_category  membership_category joining_date  \\\n",
       "0   18      F         Village  Platinum Membership   2017-08-17   \n",
       "1   32      F            City   Premium Membership   2017-08-28   \n",
       "2   44      F            Town        No Membership   2016-11-11   \n",
       "3   37      M            City        No Membership   2016-10-29   \n",
       "4   31      F            City        No Membership   2017-09-12   \n",
       "\n",
       "  joined_through_referral     preferred_offer_types medium_of_operation  \\\n",
       "0                      No     Gift Vouchers/Coupons          Smartphone   \n",
       "1                      No     Gift Vouchers/Coupons             Desktop   \n",
       "2                     Yes     Gift Vouchers/Coupons             Desktop   \n",
       "3                     Yes     Gift Vouchers/Coupons             Desktop   \n",
       "4                      No  Credit/Debit Card Offers          Smartphone   \n",
       "\n",
       "  internet_option      last_visit_time  ...  avg_time_spent  \\\n",
       "0           Wi-Fi  1900-01-01 16:08:02  ...        5.709201   \n",
       "1     Mobile_Data  1900-01-01 12:38:13  ...        5.727955   \n",
       "2           Wi-Fi  1900-01-01 22:53:21  ...        6.248352   \n",
       "3     Mobile_Data  1900-01-01 15:57:50  ...        3.993972   \n",
       "4     Mobile_Data  1900-01-01 15:46:44  ...        4.737338   \n",
       "\n",
       "   avg_transaction_value  points_in_wallet  used_special_discount  \\\n",
       "0               53005.25        781.750000                    Yes   \n",
       "1               12838.38        788.482817                    Yes   \n",
       "2               21027.00        500.690000                     No   \n",
       "3               25239.56        567.660000                     No   \n",
       "4               24483.66        663.060000                     No   \n",
       "\n",
       "  offer_application_preference past_complaint     complaint_status  \\\n",
       "0                          Yes             No       Not Applicable   \n",
       "1                           No            Yes               Solved   \n",
       "2                          Yes            Yes  Solved in Follow-up   \n",
       "3                          Yes            Yes             Unsolved   \n",
       "4                          Yes            Yes               Solved   \n",
       "\n",
       "                   feedback churn_risk_score  log_avg_time_spent  \n",
       "0  Products always in Stock              2.0            5.709201  \n",
       "1     Quality Customer Care              1.0            5.727955  \n",
       "2              Poor Website              5.0            6.248352  \n",
       "3              Poor Website              5.0            3.993972  \n",
       "4              Poor Website              5.0            4.737338  \n",
       "\n",
       "[5 rows x 21 columns]"
      ]
     },
     "execution_count": 2,
     "metadata": {},
     "output_type": "execute_result"
    }
   ],
   "source": [
    "train_cleaned = pd.read_csv('https://raw.githubusercontent.com/Ahmed-M-Fayad/Customer-Churn-Prediction-and-Analysis/main/Data/train_cleaned.csv')\n",
    "train_cleaned.head()"
   ]
  },
  {
   "cell_type": "markdown",
   "metadata": {},
   "source": [
    "#### 2.1 Create a copy for feature engineering"
   ]
  },
  {
   "cell_type": "code",
   "execution_count": 3,
   "metadata": {},
   "outputs": [],
   "source": [
    "train_preprocessed = train_cleaned.copy()"
   ]
  },
  {
   "cell_type": "markdown",
   "metadata": {},
   "source": [
    "## 3. Feature Engineering\n",
    "---"
   ]
  },
  {
   "cell_type": "markdown",
   "metadata": {},
   "source": [
    "### 3.1 Explore columns"
   ]
  },
  {
   "cell_type": "code",
   "execution_count": 6,
   "metadata": {},
   "outputs": [
    {
     "data": {
      "text/plain": [
       "Index(['age', 'gender', 'region_category', 'membership_category',\n",
       "       'joining_date', 'joined_through_referral', 'preferred_offer_types',\n",
       "       'medium_of_operation', 'internet_option', 'last_visit_time',\n",
       "       'days_since_last_login', 'avg_time_spent', 'avg_transaction_value',\n",
       "       'points_in_wallet', 'used_special_discount',\n",
       "       'offer_application_preference', 'past_complaint', 'complaint_status',\n",
       "       'feedback', 'churn_risk_score', 'log_avg_time_spent'],\n",
       "      dtype='object')"
      ]
     },
     "execution_count": 6,
     "metadata": {},
     "output_type": "execute_result"
    }
   ],
   "source": [
    "train_preprocessed.columns"
   ]
  },
  {
   "cell_type": "code",
   "execution_count": 7,
   "metadata": {},
   "outputs": [
    {
     "data": {
      "text/plain": [
       "Index(['age', 'days_since_last_login', 'avg_time_spent',\n",
       "       'avg_transaction_value', 'points_in_wallet', 'churn_risk_score',\n",
       "       'log_avg_time_spent'],\n",
       "      dtype='object')"
      ]
     },
     "execution_count": 7,
     "metadata": {},
     "output_type": "execute_result"
    }
   ],
   "source": [
    "train_preprocessed.select_dtypes('number').columns"
   ]
  },
  {
   "cell_type": "markdown",
   "metadata": {},
   "source": [
    "### 3.2 Extracting features"
   ]
  },
  {
   "cell_type": "code",
   "execution_count": 8,
   "metadata": {},
   "outputs": [],
   "source": [
    "train_preprocessed['points_per_transaction'] = train_preprocessed['points_in_wallet'] / train_preprocessed['avg_transaction_value']\n",
    "train_preprocessed['transaction_value_per_time_unit'] = train_preprocessed['avg_transaction_value'] / train_preprocessed['log_avg_time_spent']"
   ]
  },
  {
   "cell_type": "code",
   "execution_count": 9,
   "metadata": {},
   "outputs": [],
   "source": [
    "def time_of_day(hour):\n",
    "\tif 5 <= hour < 12:\n",
    "\t\treturn 'Morning'\n",
    "\telif 12 <= hour < 17:\n",
    "\t\treturn 'Afternoon'\n",
    "\telif 17 <= hour < 21:\n",
    "\t\treturn 'Evening'\n",
    "\telse:\n",
    "\t\treturn 'Night'"
   ]
  },
  {
   "cell_type": "code",
   "execution_count": 11,
   "metadata": {},
   "outputs": [],
   "source": [
    "train_preprocessed['last_visit_hour'] = pd.to_datetime(train_preprocessed['last_visit_time']).dt.hour\n",
    "train_preprocessed['last_visit_time_of_day'] = train_preprocessed['last_visit_hour'].apply(time_of_day).astype('category')"
   ]
  },
  {
   "cell_type": "markdown",
   "metadata": {},
   "source": [
    "### Save data (ready for visualization & dashboards)"
   ]
  },
  {
   "cell_type": "code",
   "execution_count": 12,
   "metadata": {},
   "outputs": [
    {
     "data": {
      "text/plain": [
       "age                                0\n",
       "gender                             0\n",
       "region_category                    0\n",
       "membership_category                0\n",
       "joining_date                       0\n",
       "joined_through_referral            0\n",
       "preferred_offer_types              0\n",
       "medium_of_operation                0\n",
       "internet_option                    0\n",
       "last_visit_time                    0\n",
       "days_since_last_login              0\n",
       "avg_time_spent                     0\n",
       "avg_transaction_value              0\n",
       "points_in_wallet                   0\n",
       "used_special_discount              0\n",
       "offer_application_preference       0\n",
       "past_complaint                     0\n",
       "complaint_status                   0\n",
       "feedback                           0\n",
       "churn_risk_score                   0\n",
       "log_avg_time_spent                 0\n",
       "points_per_transaction             0\n",
       "transaction_value_per_time_unit    0\n",
       "last_visit_hour                    0\n",
       "last_visit_time_of_day             0\n",
       "dtype: int64"
      ]
     },
     "execution_count": 12,
     "metadata": {},
     "output_type": "execute_result"
    }
   ],
   "source": [
    "train_preprocessed.isna().sum()"
   ]
  },
  {
   "cell_type": "code",
   "execution_count": null,
   "metadata": {},
   "outputs": [],
   "source": [
    "train_preprocessed.to_csv('train_preprocessed_plusFeatures.csv', index=False)"
   ]
  },
  {
   "cell_type": "markdown",
   "metadata": {},
   "source": [
    "### 3.3 Encoding categorical variables"
   ]
  },
  {
   "cell_type": "code",
   "execution_count": 14,
   "metadata": {},
   "outputs": [
    {
     "name": "stdout",
     "output_type": "stream",
     "text": [
      "gender Column --------------------------------------------------\n",
      "['F' 'M' 'Unknown']\n",
      "region_category Column --------------------------------------------------\n",
      "['Village' 'City' 'Town']\n",
      "membership_category Column --------------------------------------------------\n",
      "['Platinum Membership' 'Premium Membership' 'No Membership'\n",
      " 'Gold Membership' 'Silver Membership' 'Basic Membership']\n",
      "joining_date Column --------------------------------------------------\n",
      "['2017-08-17' '2017-08-28' '2016-11-11' ... '2017-12-11' '2016-09-25'\n",
      " '2017-04-15']\n",
      "joined_through_referral Column --------------------------------------------------\n",
      "['No' 'Yes']\n",
      "preferred_offer_types Column --------------------------------------------------\n",
      "['Gift Vouchers/Coupons' 'Credit/Debit Card Offers' 'Without Offers']\n",
      "medium_of_operation Column --------------------------------------------------\n",
      "['Smartphone' 'Desktop' 'Both']\n",
      "internet_option Column --------------------------------------------------\n",
      "['Wi-Fi' 'Mobile_Data' 'Fiber_Optic']\n",
      "last_visit_time Column --------------------------------------------------\n",
      "['1900-01-01 16:08:02' '1900-01-01 12:38:13' '1900-01-01 22:53:21' ...\n",
      " '1900-01-01 04:14:05' '1900-01-01 09:50:03' '1900-01-01 01:39:52']\n",
      "used_special_discount Column --------------------------------------------------\n",
      "['Yes' 'No']\n",
      "offer_application_preference Column --------------------------------------------------\n",
      "['Yes' 'No']\n",
      "past_complaint Column --------------------------------------------------\n",
      "['No' 'Yes']\n",
      "complaint_status Column --------------------------------------------------\n",
      "['Not Applicable' 'Solved' 'Solved in Follow-up' 'Unsolved'\n",
      " 'No Information Available']\n",
      "feedback Column --------------------------------------------------\n",
      "['Products always in Stock' 'Quality Customer Care' 'Poor Website'\n",
      " 'No reason specified' 'Poor Product Quality' 'Poor Customer Service'\n",
      " 'Too many ads' 'User Friendly Website' 'Reasonable Price']\n",
      "last_visit_time_of_day Column --------------------------------------------------\n",
      "['Afternoon', 'Night', 'Morning', 'Evening']\n",
      "Categories (4, object): ['Afternoon', 'Evening', 'Morning', 'Night']\n"
     ]
    }
   ],
   "source": [
    "for col in train_preprocessed.select_dtypes(exclude='number').columns:\n",
    "\tprint(f'{col} Column', '-'*50)\n",
    "\tprint(train_preprocessed[col].unique())"
   ]
  },
  {
   "cell_type": "markdown",
   "metadata": {},
   "source": [
    "#### 3.3.1 Binary Encoding"
   ]
  },
  {
   "cell_type": "code",
   "execution_count": 15,
   "metadata": {},
   "outputs": [],
   "source": [
    "binary_cols = ['gender', 'joined_through_referral', 'used_special_discount', 'offer_application_preference', 'past_complaint']\n",
    "for col in binary_cols:\n",
    "\ttrain_preprocessed[col] = train_preprocessed[col].map({'F':0, 'Unknown':0.5, 'M':1, 'No':0, 'Yes':1})"
   ]
  },
  {
   "cell_type": "markdown",
   "metadata": {},
   "source": [
    "#### 3.3.2 Ordinal Encoding"
   ]
  },
  {
   "cell_type": "code",
   "execution_count": 16,
   "metadata": {},
   "outputs": [],
   "source": [
    "# ordinal_cols = ['membership_category', 'feedback']\n",
    "train_preprocessed['membership_category'] = pd.Categorical(train_preprocessed['membership_category'], \n",
    "\t\t\t\t\t\t\t\t\t\t\t\t\t\t   categories=['No Membership', 'Basic Membership', 'Silver Membership', \n",
    "\t\t\t\t\t\t\t\t\t\t\t\t\t\t\t\t\t   'Gold Membership', 'Platinum Membership', 'Premium Membership'],\n",
    "\t\t\t\t\t\t\t\t\t\t\t\t\t\t\tordered=True).codes"
   ]
  },
  {
   "cell_type": "code",
   "execution_count": 17,
   "metadata": {},
   "outputs": [],
   "source": [
    "positive_feedback = ['Products always in Stock', 'Quality Customer Care', 'Reasonable Price', 'User Friendly Website']\n",
    "negative_feedback = ['Poor Website' ,'Poor Customer Service', 'Poor Product Quality', 'Too many ads']\n",
    "neutral_feedback = ['No reason specified']\n",
    "\n",
    "def get_sentiment(feedback):\n",
    "\tif feedback in positive_feedback:\n",
    "\t\treturn 2\n",
    "\telif feedback in negative_feedback:\n",
    "\t\treturn 0\n",
    "\telse:\n",
    "\t\treturn 1 # neutral\n",
    "\t\n",
    "train_preprocessed['feedback'] = train_preprocessed['feedback'].transform(get_sentiment)"
   ]
  },
  {
   "cell_type": "markdown",
   "metadata": {},
   "source": [
    "#### 3.3.3 One-Hot Encoding"
   ]
  },
  {
   "cell_type": "code",
   "execution_count": 18,
   "metadata": {},
   "outputs": [],
   "source": [
    "cat_cols = ['region_category', 'preferred_offer_types', 'medium_of_operation', 'internet_option', 'last_visit_time_of_day', 'complaint_status']\n",
    "train_preprocessed = pd.get_dummies(train_preprocessed, columns=cat_cols, drop_first=True, dtype=int)"
   ]
  },
  {
   "cell_type": "markdown",
   "metadata": {},
   "source": [
    "#### 3.3.4 Feature selection"
   ]
  },
  {
   "cell_type": "code",
   "execution_count": 19,
   "metadata": {},
   "outputs": [],
   "source": [
    "X = train_preprocessed.drop(columns=['churn_risk_score', 'joining_date', 'last_visit_time'])\n",
    "y = train_preprocessed['churn_risk_score']\n",
    "X_train, X_val, y_train, y_val = train_test_split(X, y, test_size=0.2, stratify=y, random_state=42)"
   ]
  },
  {
   "cell_type": "code",
   "execution_count": 20,
   "metadata": {},
   "outputs": [],
   "source": [
    "# Scaling\n",
    "scaler = StandardScaler()\n",
    "X_train = scaler.fit_transform(X_train)\n",
    "X_val = scaler.transform(X_val)"
   ]
  },
  {
   "cell_type": "code",
   "execution_count": 21,
   "metadata": {},
   "outputs": [],
   "source": [
    "rf = RandomForestClassifier(random_state=42).fit(X_train, y_train)"
   ]
  },
  {
   "cell_type": "code",
   "execution_count": 22,
   "metadata": {},
   "outputs": [
    {
     "data": {
      "text/html": [
       "<div>\n",
       "<style scoped>\n",
       "    .dataframe tbody tr th:only-of-type {\n",
       "        vertical-align: middle;\n",
       "    }\n",
       "\n",
       "    .dataframe tbody tr th {\n",
       "        vertical-align: top;\n",
       "    }\n",
       "\n",
       "    .dataframe thead th {\n",
       "        text-align: right;\n",
       "    }\n",
       "</style>\n",
       "<table border=\"1\" class=\"dataframe\">\n",
       "  <thead>\n",
       "    <tr style=\"text-align: right;\">\n",
       "      <th></th>\n",
       "      <th>index</th>\n",
       "      <th>feature</th>\n",
       "      <th>importance</th>\n",
       "      <th>cumulative_importance</th>\n",
       "    </tr>\n",
       "  </thead>\n",
       "  <tbody>\n",
       "    <tr>\n",
       "      <th>0</th>\n",
       "      <td>7</td>\n",
       "      <td>points_in_wallet</td>\n",
       "      <td>0.263515</td>\n",
       "      <td>0.263515</td>\n",
       "    </tr>\n",
       "    <tr>\n",
       "      <th>1</th>\n",
       "      <td>2</td>\n",
       "      <td>membership_category</td>\n",
       "      <td>0.221614</td>\n",
       "      <td>0.485128</td>\n",
       "    </tr>\n",
       "    <tr>\n",
       "      <th>2</th>\n",
       "      <td>11</td>\n",
       "      <td>feedback</td>\n",
       "      <td>0.114920</td>\n",
       "      <td>0.600048</td>\n",
       "    </tr>\n",
       "    <tr>\n",
       "      <th>3</th>\n",
       "      <td>6</td>\n",
       "      <td>avg_transaction_value</td>\n",
       "      <td>0.063788</td>\n",
       "      <td>0.663836</td>\n",
       "    </tr>\n",
       "    <tr>\n",
       "      <th>4</th>\n",
       "      <td>13</td>\n",
       "      <td>points_per_transaction</td>\n",
       "      <td>0.052865</td>\n",
       "      <td>0.716701</td>\n",
       "    </tr>\n",
       "    <tr>\n",
       "      <th>5</th>\n",
       "      <td>14</td>\n",
       "      <td>transaction_value_per_time_unit</td>\n",
       "      <td>0.042772</td>\n",
       "      <td>0.759473</td>\n",
       "    </tr>\n",
       "    <tr>\n",
       "      <th>6</th>\n",
       "      <td>12</td>\n",
       "      <td>log_avg_time_spent</td>\n",
       "      <td>0.033696</td>\n",
       "      <td>0.793169</td>\n",
       "    </tr>\n",
       "    <tr>\n",
       "      <th>7</th>\n",
       "      <td>5</td>\n",
       "      <td>avg_time_spent</td>\n",
       "      <td>0.032599</td>\n",
       "      <td>0.825768</td>\n",
       "    </tr>\n",
       "    <tr>\n",
       "      <th>8</th>\n",
       "      <td>0</td>\n",
       "      <td>age</td>\n",
       "      <td>0.031241</td>\n",
       "      <td>0.857009</td>\n",
       "    </tr>\n",
       "    <tr>\n",
       "      <th>9</th>\n",
       "      <td>4</td>\n",
       "      <td>days_since_last_login</td>\n",
       "      <td>0.027157</td>\n",
       "      <td>0.884166</td>\n",
       "    </tr>\n",
       "    <tr>\n",
       "      <th>10</th>\n",
       "      <td>15</td>\n",
       "      <td>last_visit_hour</td>\n",
       "      <td>0.024701</td>\n",
       "      <td>0.908867</td>\n",
       "    </tr>\n",
       "    <tr>\n",
       "      <th>11</th>\n",
       "      <td>1</td>\n",
       "      <td>gender</td>\n",
       "      <td>0.006041</td>\n",
       "      <td>0.914908</td>\n",
       "    </tr>\n",
       "    <tr>\n",
       "      <th>12</th>\n",
       "      <td>16</td>\n",
       "      <td>region_category_Town</td>\n",
       "      <td>0.005810</td>\n",
       "      <td>0.920718</td>\n",
       "    </tr>\n",
       "    <tr>\n",
       "      <th>13</th>\n",
       "      <td>22</td>\n",
       "      <td>internet_option_Mobile_Data</td>\n",
       "      <td>0.005486</td>\n",
       "      <td>0.926204</td>\n",
       "    </tr>\n",
       "    <tr>\n",
       "      <th>14</th>\n",
       "      <td>3</td>\n",
       "      <td>joined_through_referral</td>\n",
       "      <td>0.005449</td>\n",
       "      <td>0.931653</td>\n",
       "    </tr>\n",
       "    <tr>\n",
       "      <th>15</th>\n",
       "      <td>23</td>\n",
       "      <td>internet_option_Wi-Fi</td>\n",
       "      <td>0.005424</td>\n",
       "      <td>0.937077</td>\n",
       "    </tr>\n",
       "    <tr>\n",
       "      <th>16</th>\n",
       "      <td>18</td>\n",
       "      <td>preferred_offer_types_Gift Vouchers/Coupons</td>\n",
       "      <td>0.004922</td>\n",
       "      <td>0.941998</td>\n",
       "    </tr>\n",
       "    <tr>\n",
       "      <th>17</th>\n",
       "      <td>8</td>\n",
       "      <td>used_special_discount</td>\n",
       "      <td>0.004920</td>\n",
       "      <td>0.946918</td>\n",
       "    </tr>\n",
       "    <tr>\n",
       "      <th>18</th>\n",
       "      <td>9</td>\n",
       "      <td>offer_application_preference</td>\n",
       "      <td>0.004905</td>\n",
       "      <td>0.951823</td>\n",
       "    </tr>\n",
       "    <tr>\n",
       "      <th>19</th>\n",
       "      <td>20</td>\n",
       "      <td>medium_of_operation_Desktop</td>\n",
       "      <td>0.004832</td>\n",
       "      <td>0.956655</td>\n",
       "    </tr>\n",
       "    <tr>\n",
       "      <th>20</th>\n",
       "      <td>19</td>\n",
       "      <td>preferred_offer_types_Without Offers</td>\n",
       "      <td>0.004726</td>\n",
       "      <td>0.961381</td>\n",
       "    </tr>\n",
       "    <tr>\n",
       "      <th>21</th>\n",
       "      <td>21</td>\n",
       "      <td>medium_of_operation_Smartphone</td>\n",
       "      <td>0.004720</td>\n",
       "      <td>0.966102</td>\n",
       "    </tr>\n",
       "    <tr>\n",
       "      <th>22</th>\n",
       "      <td>27</td>\n",
       "      <td>complaint_status_Not Applicable</td>\n",
       "      <td>0.004144</td>\n",
       "      <td>0.970246</td>\n",
       "    </tr>\n",
       "    <tr>\n",
       "      <th>23</th>\n",
       "      <td>10</td>\n",
       "      <td>past_complaint</td>\n",
       "      <td>0.004098</td>\n",
       "      <td>0.974343</td>\n",
       "    </tr>\n",
       "    <tr>\n",
       "      <th>24</th>\n",
       "      <td>26</td>\n",
       "      <td>last_visit_time_of_day_Night</td>\n",
       "      <td>0.004007</td>\n",
       "      <td>0.978350</td>\n",
       "    </tr>\n",
       "    <tr>\n",
       "      <th>25</th>\n",
       "      <td>17</td>\n",
       "      <td>region_category_Village</td>\n",
       "      <td>0.003960</td>\n",
       "      <td>0.982310</td>\n",
       "    </tr>\n",
       "    <tr>\n",
       "      <th>26</th>\n",
       "      <td>25</td>\n",
       "      <td>last_visit_time_of_day_Morning</td>\n",
       "      <td>0.003882</td>\n",
       "      <td>0.986192</td>\n",
       "    </tr>\n",
       "    <tr>\n",
       "      <th>27</th>\n",
       "      <td>29</td>\n",
       "      <td>complaint_status_Solved in Follow-up</td>\n",
       "      <td>0.003621</td>\n",
       "      <td>0.989813</td>\n",
       "    </tr>\n",
       "    <tr>\n",
       "      <th>28</th>\n",
       "      <td>28</td>\n",
       "      <td>complaint_status_Solved</td>\n",
       "      <td>0.003486</td>\n",
       "      <td>0.993299</td>\n",
       "    </tr>\n",
       "    <tr>\n",
       "      <th>29</th>\n",
       "      <td>24</td>\n",
       "      <td>last_visit_time_of_day_Evening</td>\n",
       "      <td>0.003358</td>\n",
       "      <td>0.996658</td>\n",
       "    </tr>\n",
       "    <tr>\n",
       "      <th>30</th>\n",
       "      <td>30</td>\n",
       "      <td>complaint_status_Unsolved</td>\n",
       "      <td>0.003342</td>\n",
       "      <td>1.000000</td>\n",
       "    </tr>\n",
       "  </tbody>\n",
       "</table>\n",
       "</div>"
      ],
      "text/plain": [
       "    index                                      feature  importance  \\\n",
       "0       7                             points_in_wallet    0.263515   \n",
       "1       2                          membership_category    0.221614   \n",
       "2      11                                     feedback    0.114920   \n",
       "3       6                        avg_transaction_value    0.063788   \n",
       "4      13                       points_per_transaction    0.052865   \n",
       "5      14              transaction_value_per_time_unit    0.042772   \n",
       "6      12                           log_avg_time_spent    0.033696   \n",
       "7       5                               avg_time_spent    0.032599   \n",
       "8       0                                          age    0.031241   \n",
       "9       4                        days_since_last_login    0.027157   \n",
       "10     15                              last_visit_hour    0.024701   \n",
       "11      1                                       gender    0.006041   \n",
       "12     16                         region_category_Town    0.005810   \n",
       "13     22                  internet_option_Mobile_Data    0.005486   \n",
       "14      3                      joined_through_referral    0.005449   \n",
       "15     23                        internet_option_Wi-Fi    0.005424   \n",
       "16     18  preferred_offer_types_Gift Vouchers/Coupons    0.004922   \n",
       "17      8                        used_special_discount    0.004920   \n",
       "18      9                 offer_application_preference    0.004905   \n",
       "19     20                  medium_of_operation_Desktop    0.004832   \n",
       "20     19         preferred_offer_types_Without Offers    0.004726   \n",
       "21     21               medium_of_operation_Smartphone    0.004720   \n",
       "22     27              complaint_status_Not Applicable    0.004144   \n",
       "23     10                               past_complaint    0.004098   \n",
       "24     26                 last_visit_time_of_day_Night    0.004007   \n",
       "25     17                      region_category_Village    0.003960   \n",
       "26     25               last_visit_time_of_day_Morning    0.003882   \n",
       "27     29         complaint_status_Solved in Follow-up    0.003621   \n",
       "28     28                      complaint_status_Solved    0.003486   \n",
       "29     24               last_visit_time_of_day_Evening    0.003358   \n",
       "30     30                    complaint_status_Unsolved    0.003342   \n",
       "\n",
       "    cumulative_importance  \n",
       "0                0.263515  \n",
       "1                0.485128  \n",
       "2                0.600048  \n",
       "3                0.663836  \n",
       "4                0.716701  \n",
       "5                0.759473  \n",
       "6                0.793169  \n",
       "7                0.825768  \n",
       "8                0.857009  \n",
       "9                0.884166  \n",
       "10               0.908867  \n",
       "11               0.914908  \n",
       "12               0.920718  \n",
       "13               0.926204  \n",
       "14               0.931653  \n",
       "15               0.937077  \n",
       "16               0.941998  \n",
       "17               0.946918  \n",
       "18               0.951823  \n",
       "19               0.956655  \n",
       "20               0.961381  \n",
       "21               0.966102  \n",
       "22               0.970246  \n",
       "23               0.974343  \n",
       "24               0.978350  \n",
       "25               0.982310  \n",
       "26               0.986192  \n",
       "27               0.989813  \n",
       "28               0.993299  \n",
       "29               0.996658  \n",
       "30               1.000000  "
      ]
     },
     "execution_count": 22,
     "metadata": {},
     "output_type": "execute_result"
    }
   ],
   "source": [
    "importances = rf.feature_importances_\n",
    "feature_names = X.columns\n",
    "feature_importance_df = pd.DataFrame({'feature':feature_names, 'importance':importances})\n",
    "feature_importance_df = feature_importance_df.sort_values('importance', ascending=False).reset_index()\n",
    "feature_importance_df['cumulative_importance'] = feature_importance_df['importance'].cumsum()\n",
    "feature_importance_df"
   ]
  },
  {
   "cell_type": "code",
   "execution_count": 23,
   "metadata": {},
   "outputs": [],
   "source": [
    "# let's select the first 11 features where they have importance of around 90%\n",
    "important_features = feature_importance_df.iloc[:10]['index'].tolist()\n",
    "X_train_selected = X_train[:, important_features]\n",
    "X_val_selected = X_val[:, important_features]"
   ]
  },
  {
   "cell_type": "code",
   "execution_count": 24,
   "metadata": {},
   "outputs": [
    {
     "name": "stdout",
     "output_type": "stream",
     "text": [
      "accuracy (before feature selection): 0.7801\n",
      "accuracy (after feature selection): 0.7781\n"
     ]
    }
   ],
   "source": [
    "rf_selected = RandomForestClassifier(random_state=42).fit(X_train_selected, y_train)\n",
    "\n",
    "full_score = rf.score(X_val, y_val)\n",
    "selected_score = rf_selected.score(X_val_selected, y_val)\n",
    "\n",
    "print(f\"accuracy (before feature selection): {full_score:.4f}\")\n",
    "print(f\"accuracy (after feature selection): {selected_score:.4f}\")"
   ]
  },
  {
   "cell_type": "markdown",
   "metadata": {},
   "source": [
    "### Save data (ready for modeling)"
   ]
  },
  {
   "cell_type": "code",
   "execution_count": 25,
   "metadata": {},
   "outputs": [],
   "source": [
    "train_preprocessed.to_csv('train_preprocessed_plusFeatures_encoded.csv', index=False)"
   ]
  }
 ],
 "metadata": {
  "kernelspec": {
   "display_name": "Python 3",
   "language": "python",
   "name": "python3"
  },
  "language_info": {
   "codemirror_mode": {
    "name": "ipython",
    "version": 3
   },
   "file_extension": ".py",
   "mimetype": "text/x-python",
   "name": "python",
   "nbconvert_exporter": "python",
   "pygments_lexer": "ipython3",
   "version": "3.12.1"
  }
 },
 "nbformat": 4,
 "nbformat_minor": 2
}
